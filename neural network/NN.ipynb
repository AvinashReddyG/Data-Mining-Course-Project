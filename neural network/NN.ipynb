{
 "cells": [
  {
   "cell_type": "markdown",
   "metadata": {
    "id": "Mz5DMZlpLQyx"
   },
   "source": [
    "# Setup"
   ]
  },
  {
   "cell_type": "code",
   "execution_count": 45,
   "metadata": {
    "id": "KncYi7wU9Blr"
   },
   "outputs": [],
   "source": [
    "import numpy as np\n",
    "import pandas as pd\n",
    "import matplotlib.pyplot as plt\n",
    "import torch\n",
    "import torch.nn as nn\n",
    "\n",
    "from tqdm import tqdm\n",
    "from sklearn.model_selection import KFold"
   ]
  },
  {
   "cell_type": "code",
   "execution_count": 3,
   "metadata": {
    "colab": {
     "base_uri": "https://localhost:8080/"
    },
    "id": "dOIbDx7FLTg5",
    "outputId": "8753af19-763b-448b-96e3-556a4f17085b"
   },
   "outputs": [],
   "source": [
    "device = torch.device(\"cuda:0\" if torch.cuda.is_available() else \"cpu\")"
   ]
  },
  {
   "cell_type": "markdown",
   "metadata": {
    "id": "UWNKTPzG9I3s"
   },
   "source": [
    "# Importing Data"
   ]
  },
  {
   "cell_type": "code",
   "execution_count": 5,
   "metadata": {
    "id": "mNjK5_lIGlJ7"
   },
   "outputs": [],
   "source": [
    "# Currently we need to manually import the csv files every session.\n",
    "# Perhaps there is a better way by mounting gdrive to do that part automatically.\n",
    "X_train_df = pd.read_csv(\"X_train.csv\")\n",
    "y_train_df = pd.read_csv(\"y_train.csv\")\n",
    "\n",
    "X_train = X_train_df.values\n",
    "y_train = y_train_df.values"
   ]
  },
  {
   "cell_type": "code",
   "execution_count": 6,
   "metadata": {
    "colab": {
     "base_uri": "https://localhost:8080/",
     "height": 461
    },
    "id": "-UQYY7-DmYyU",
    "outputId": "9a867ce1-bb5c-41d8-a03d-3eedf1ec10d6"
   },
   "outputs": [
    {
     "data": {
      "text/html": [
       "<div>\n",
       "<style scoped>\n",
       "    .dataframe tbody tr th:only-of-type {\n",
       "        vertical-align: middle;\n",
       "    }\n",
       "\n",
       "    .dataframe tbody tr th {\n",
       "        vertical-align: top;\n",
       "    }\n",
       "\n",
       "    .dataframe thead th {\n",
       "        text-align: right;\n",
       "    }\n",
       "</style>\n",
       "<table border=\"1\" class=\"dataframe\">\n",
       "  <thead>\n",
       "    <tr style=\"text-align: right;\">\n",
       "      <th></th>\n",
       "      <th>Month</th>\n",
       "      <th>Day</th>\n",
       "      <th>Weekday</th>\n",
       "      <th>Hour</th>\n",
       "      <th>Accident_Duration(min)_standardized</th>\n",
       "      <th>Distance(mi)_standardized</th>\n",
       "      <th>Temperature(F)_standardized</th>\n",
       "      <th>Humidity(%)_standardized</th>\n",
       "      <th>Pressure(in)_standardized</th>\n",
       "      <th>Visibility(mi)_standardized</th>\n",
       "      <th>...</th>\n",
       "      <th>Crossing_label-encoded</th>\n",
       "      <th>Junction_label-encoded</th>\n",
       "      <th>Station_label-encoded</th>\n",
       "      <th>Stop_label-encoded</th>\n",
       "      <th>Traffic_Signal_label-encoded</th>\n",
       "      <th>Sunrise_Sunset_label-encoded</th>\n",
       "      <th>Civil_Twilight_label-encoded</th>\n",
       "      <th>Nautical_Twilight_label-encoded</th>\n",
       "      <th>Astronomical_Twilight_label-encoded</th>\n",
       "      <th>Year_label-encoded</th>\n",
       "    </tr>\n",
       "  </thead>\n",
       "  <tbody>\n",
       "    <tr>\n",
       "      <th>0</th>\n",
       "      <td>11</td>\n",
       "      <td>28</td>\n",
       "      <td>0</td>\n",
       "      <td>9</td>\n",
       "      <td>-0.874416</td>\n",
       "      <td>-0.530474</td>\n",
       "      <td>0.621184</td>\n",
       "      <td>0.320624</td>\n",
       "      <td>0.676106</td>\n",
       "      <td>0.342459</td>\n",
       "      <td>...</td>\n",
       "      <td>0</td>\n",
       "      <td>0</td>\n",
       "      <td>0</td>\n",
       "      <td>0</td>\n",
       "      <td>0</td>\n",
       "      <td>0</td>\n",
       "      <td>0</td>\n",
       "      <td>0</td>\n",
       "      <td>0</td>\n",
       "      <td>0</td>\n",
       "    </tr>\n",
       "    <tr>\n",
       "      <th>1</th>\n",
       "      <td>3</td>\n",
       "      <td>19</td>\n",
       "      <td>0</td>\n",
       "      <td>17</td>\n",
       "      <td>-0.872318</td>\n",
       "      <td>-0.530474</td>\n",
       "      <td>1.301672</td>\n",
       "      <td>-0.587762</td>\n",
       "      <td>0.122326</td>\n",
       "      <td>0.342459</td>\n",
       "      <td>...</td>\n",
       "      <td>1</td>\n",
       "      <td>0</td>\n",
       "      <td>0</td>\n",
       "      <td>0</td>\n",
       "      <td>1</td>\n",
       "      <td>0</td>\n",
       "      <td>0</td>\n",
       "      <td>0</td>\n",
       "      <td>0</td>\n",
       "      <td>2</td>\n",
       "    </tr>\n",
       "    <tr>\n",
       "      <th>2</th>\n",
       "      <td>11</td>\n",
       "      <td>30</td>\n",
       "      <td>0</td>\n",
       "      <td>0</td>\n",
       "      <td>0.111477</td>\n",
       "      <td>1.212747</td>\n",
       "      <td>-0.626377</td>\n",
       "      <td>-1.632407</td>\n",
       "      <td>-1.563094</td>\n",
       "      <td>0.342459</td>\n",
       "      <td>...</td>\n",
       "      <td>0</td>\n",
       "      <td>0</td>\n",
       "      <td>0</td>\n",
       "      <td>0</td>\n",
       "      <td>0</td>\n",
       "      <td>1</td>\n",
       "      <td>1</td>\n",
       "      <td>1</td>\n",
       "      <td>1</td>\n",
       "      <td>4</td>\n",
       "    </tr>\n",
       "    <tr>\n",
       "      <th>3</th>\n",
       "      <td>9</td>\n",
       "      <td>15</td>\n",
       "      <td>3</td>\n",
       "      <td>8</td>\n",
       "      <td>1.026750</td>\n",
       "      <td>1.295296</td>\n",
       "      <td>-0.002597</td>\n",
       "      <td>-0.269827</td>\n",
       "      <td>0.820571</td>\n",
       "      <td>0.342459</td>\n",
       "      <td>...</td>\n",
       "      <td>0</td>\n",
       "      <td>0</td>\n",
       "      <td>0</td>\n",
       "      <td>0</td>\n",
       "      <td>0</td>\n",
       "      <td>0</td>\n",
       "      <td>0</td>\n",
       "      <td>0</td>\n",
       "      <td>0</td>\n",
       "      <td>6</td>\n",
       "    </tr>\n",
       "    <tr>\n",
       "      <th>4</th>\n",
       "      <td>8</td>\n",
       "      <td>16</td>\n",
       "      <td>1</td>\n",
       "      <td>9</td>\n",
       "      <td>-0.525158</td>\n",
       "      <td>-0.530474</td>\n",
       "      <td>0.995453</td>\n",
       "      <td>0.366044</td>\n",
       "      <td>1.037268</td>\n",
       "      <td>0.342459</td>\n",
       "      <td>...</td>\n",
       "      <td>1</td>\n",
       "      <td>0</td>\n",
       "      <td>0</td>\n",
       "      <td>0</td>\n",
       "      <td>1</td>\n",
       "      <td>0</td>\n",
       "      <td>0</td>\n",
       "      <td>0</td>\n",
       "      <td>0</td>\n",
       "      <td>0</td>\n",
       "    </tr>\n",
       "    <tr>\n",
       "      <th>...</th>\n",
       "      <td>...</td>\n",
       "      <td>...</td>\n",
       "      <td>...</td>\n",
       "      <td>...</td>\n",
       "      <td>...</td>\n",
       "      <td>...</td>\n",
       "      <td>...</td>\n",
       "      <td>...</td>\n",
       "      <td>...</td>\n",
       "      <td>...</td>\n",
       "      <td>...</td>\n",
       "      <td>...</td>\n",
       "      <td>...</td>\n",
       "      <td>...</td>\n",
       "      <td>...</td>\n",
       "      <td>...</td>\n",
       "      <td>...</td>\n",
       "      <td>...</td>\n",
       "      <td>...</td>\n",
       "      <td>...</td>\n",
       "      <td>...</td>\n",
       "    </tr>\n",
       "    <tr>\n",
       "      <th>237436</th>\n",
       "      <td>1</td>\n",
       "      <td>3</td>\n",
       "      <td>1</td>\n",
       "      <td>13</td>\n",
       "      <td>-1.053765</td>\n",
       "      <td>2.217892</td>\n",
       "      <td>0.394355</td>\n",
       "      <td>0.093528</td>\n",
       "      <td>-1.226010</td>\n",
       "      <td>0.342459</td>\n",
       "      <td>...</td>\n",
       "      <td>0</td>\n",
       "      <td>0</td>\n",
       "      <td>0</td>\n",
       "      <td>0</td>\n",
       "      <td>0</td>\n",
       "      <td>0</td>\n",
       "      <td>0</td>\n",
       "      <td>0</td>\n",
       "      <td>0</td>\n",
       "      <td>7</td>\n",
       "    </tr>\n",
       "    <tr>\n",
       "      <th>237437</th>\n",
       "      <td>7</td>\n",
       "      <td>8</td>\n",
       "      <td>3</td>\n",
       "      <td>6</td>\n",
       "      <td>-0.150029</td>\n",
       "      <td>-0.530474</td>\n",
       "      <td>0.110818</td>\n",
       "      <td>0.820237</td>\n",
       "      <td>-0.696307</td>\n",
       "      <td>-0.840973</td>\n",
       "      <td>...</td>\n",
       "      <td>0</td>\n",
       "      <td>0</td>\n",
       "      <td>0</td>\n",
       "      <td>0</td>\n",
       "      <td>0</td>\n",
       "      <td>0</td>\n",
       "      <td>0</td>\n",
       "      <td>0</td>\n",
       "      <td>0</td>\n",
       "      <td>5</td>\n",
       "    </tr>\n",
       "    <tr>\n",
       "      <th>237438</th>\n",
       "      <td>3</td>\n",
       "      <td>17</td>\n",
       "      <td>3</td>\n",
       "      <td>17</td>\n",
       "      <td>-0.887002</td>\n",
       "      <td>1.460392</td>\n",
       "      <td>0.280940</td>\n",
       "      <td>-0.269827</td>\n",
       "      <td>-0.816694</td>\n",
       "      <td>0.342459</td>\n",
       "      <td>...</td>\n",
       "      <td>0</td>\n",
       "      <td>0</td>\n",
       "      <td>0</td>\n",
       "      <td>0</td>\n",
       "      <td>0</td>\n",
       "      <td>0</td>\n",
       "      <td>0</td>\n",
       "      <td>0</td>\n",
       "      <td>0</td>\n",
       "      <td>6</td>\n",
       "    </tr>\n",
       "    <tr>\n",
       "      <th>237439</th>\n",
       "      <td>11</td>\n",
       "      <td>8</td>\n",
       "      <td>4</td>\n",
       "      <td>11</td>\n",
       "      <td>0.905086</td>\n",
       "      <td>-0.530474</td>\n",
       "      <td>0.394355</td>\n",
       "      <td>-1.632407</td>\n",
       "      <td>-0.214758</td>\n",
       "      <td>-1.629927</td>\n",
       "      <td>...</td>\n",
       "      <td>0</td>\n",
       "      <td>0</td>\n",
       "      <td>0</td>\n",
       "      <td>0</td>\n",
       "      <td>0</td>\n",
       "      <td>0</td>\n",
       "      <td>0</td>\n",
       "      <td>0</td>\n",
       "      <td>0</td>\n",
       "      <td>3</td>\n",
       "    </tr>\n",
       "    <tr>\n",
       "      <th>237440</th>\n",
       "      <td>9</td>\n",
       "      <td>9</td>\n",
       "      <td>6</td>\n",
       "      <td>5</td>\n",
       "      <td>-0.888400</td>\n",
       "      <td>-0.530474</td>\n",
       "      <td>-0.405219</td>\n",
       "      <td>-1.632407</td>\n",
       "      <td>0.411255</td>\n",
       "      <td>0.342459</td>\n",
       "      <td>...</td>\n",
       "      <td>0</td>\n",
       "      <td>0</td>\n",
       "      <td>0</td>\n",
       "      <td>0</td>\n",
       "      <td>0</td>\n",
       "      <td>1</td>\n",
       "      <td>1</td>\n",
       "      <td>1</td>\n",
       "      <td>0</td>\n",
       "      <td>2</td>\n",
       "    </tr>\n",
       "  </tbody>\n",
       "</table>\n",
       "<p>237441 rows × 33 columns</p>\n",
       "</div>"
      ],
      "text/plain": [
       "        Month  Day  Weekday  Hour  Accident_Duration(min)_standardized  \\\n",
       "0          11   28        0     9                            -0.874416   \n",
       "1           3   19        0    17                            -0.872318   \n",
       "2          11   30        0     0                             0.111477   \n",
       "3           9   15        3     8                             1.026750   \n",
       "4           8   16        1     9                            -0.525158   \n",
       "...       ...  ...      ...   ...                                  ...   \n",
       "237436      1    3        1    13                            -1.053765   \n",
       "237437      7    8        3     6                            -0.150029   \n",
       "237438      3   17        3    17                            -0.887002   \n",
       "237439     11    8        4    11                             0.905086   \n",
       "237440      9    9        6     5                            -0.888400   \n",
       "\n",
       "        Distance(mi)_standardized  Temperature(F)_standardized  \\\n",
       "0                       -0.530474                     0.621184   \n",
       "1                       -0.530474                     1.301672   \n",
       "2                        1.212747                    -0.626377   \n",
       "3                        1.295296                    -0.002597   \n",
       "4                       -0.530474                     0.995453   \n",
       "...                           ...                          ...   \n",
       "237436                   2.217892                     0.394355   \n",
       "237437                  -0.530474                     0.110818   \n",
       "237438                   1.460392                     0.280940   \n",
       "237439                  -0.530474                     0.394355   \n",
       "237440                  -0.530474                    -0.405219   \n",
       "\n",
       "        Humidity(%)_standardized  Pressure(in)_standardized  \\\n",
       "0                       0.320624                   0.676106   \n",
       "1                      -0.587762                   0.122326   \n",
       "2                      -1.632407                  -1.563094   \n",
       "3                      -0.269827                   0.820571   \n",
       "4                       0.366044                   1.037268   \n",
       "...                          ...                        ...   \n",
       "237436                  0.093528                  -1.226010   \n",
       "237437                  0.820237                  -0.696307   \n",
       "237438                 -0.269827                  -0.816694   \n",
       "237439                 -1.632407                  -0.214758   \n",
       "237440                 -1.632407                   0.411255   \n",
       "\n",
       "        Visibility(mi)_standardized  ...  Crossing_label-encoded  \\\n",
       "0                          0.342459  ...                       0   \n",
       "1                          0.342459  ...                       1   \n",
       "2                          0.342459  ...                       0   \n",
       "3                          0.342459  ...                       0   \n",
       "4                          0.342459  ...                       1   \n",
       "...                             ...  ...                     ...   \n",
       "237436                     0.342459  ...                       0   \n",
       "237437                    -0.840973  ...                       0   \n",
       "237438                     0.342459  ...                       0   \n",
       "237439                    -1.629927  ...                       0   \n",
       "237440                     0.342459  ...                       0   \n",
       "\n",
       "        Junction_label-encoded  Station_label-encoded  Stop_label-encoded  \\\n",
       "0                            0                      0                   0   \n",
       "1                            0                      0                   0   \n",
       "2                            0                      0                   0   \n",
       "3                            0                      0                   0   \n",
       "4                            0                      0                   0   \n",
       "...                        ...                    ...                 ...   \n",
       "237436                       0                      0                   0   \n",
       "237437                       0                      0                   0   \n",
       "237438                       0                      0                   0   \n",
       "237439                       0                      0                   0   \n",
       "237440                       0                      0                   0   \n",
       "\n",
       "        Traffic_Signal_label-encoded  Sunrise_Sunset_label-encoded  \\\n",
       "0                                  0                             0   \n",
       "1                                  1                             0   \n",
       "2                                  0                             1   \n",
       "3                                  0                             0   \n",
       "4                                  1                             0   \n",
       "...                              ...                           ...   \n",
       "237436                             0                             0   \n",
       "237437                             0                             0   \n",
       "237438                             0                             0   \n",
       "237439                             0                             0   \n",
       "237440                             0                             1   \n",
       "\n",
       "        Civil_Twilight_label-encoded  Nautical_Twilight_label-encoded  \\\n",
       "0                                  0                                0   \n",
       "1                                  0                                0   \n",
       "2                                  1                                1   \n",
       "3                                  0                                0   \n",
       "4                                  0                                0   \n",
       "...                              ...                              ...   \n",
       "237436                             0                                0   \n",
       "237437                             0                                0   \n",
       "237438                             0                                0   \n",
       "237439                             0                                0   \n",
       "237440                             1                                1   \n",
       "\n",
       "        Astronomical_Twilight_label-encoded  Year_label-encoded  \n",
       "0                                         0                   0  \n",
       "1                                         0                   2  \n",
       "2                                         1                   4  \n",
       "3                                         0                   6  \n",
       "4                                         0                   0  \n",
       "...                                     ...                 ...  \n",
       "237436                                    0                   7  \n",
       "237437                                    0                   5  \n",
       "237438                                    0                   6  \n",
       "237439                                    0                   3  \n",
       "237440                                    0                   2  \n",
       "\n",
       "[237441 rows x 33 columns]"
      ]
     },
     "execution_count": 6,
     "metadata": {},
     "output_type": "execute_result"
    }
   ],
   "source": [
    "# See the data\n",
    "X_train_df"
   ]
  },
  {
   "cell_type": "code",
   "execution_count": 7,
   "metadata": {
    "colab": {
     "base_uri": "https://localhost:8080/",
     "height": 423
    },
    "id": "RonnuHnMo5mB",
    "outputId": "8325bfa9-988a-4edc-d473-c8c63c713bd2"
   },
   "outputs": [
    {
     "data": {
      "text/html": [
       "<div>\n",
       "<style scoped>\n",
       "    .dataframe tbody tr th:only-of-type {\n",
       "        vertical-align: middle;\n",
       "    }\n",
       "\n",
       "    .dataframe tbody tr th {\n",
       "        vertical-align: top;\n",
       "    }\n",
       "\n",
       "    .dataframe thead th {\n",
       "        text-align: right;\n",
       "    }\n",
       "</style>\n",
       "<table border=\"1\" class=\"dataframe\">\n",
       "  <thead>\n",
       "    <tr style=\"text-align: right;\">\n",
       "      <th></th>\n",
       "      <th>Severity</th>\n",
       "    </tr>\n",
       "  </thead>\n",
       "  <tbody>\n",
       "    <tr>\n",
       "      <th>0</th>\n",
       "      <td>1</td>\n",
       "    </tr>\n",
       "    <tr>\n",
       "      <th>1</th>\n",
       "      <td>1</td>\n",
       "    </tr>\n",
       "    <tr>\n",
       "      <th>2</th>\n",
       "      <td>1</td>\n",
       "    </tr>\n",
       "    <tr>\n",
       "      <th>3</th>\n",
       "      <td>1</td>\n",
       "    </tr>\n",
       "    <tr>\n",
       "      <th>4</th>\n",
       "      <td>1</td>\n",
       "    </tr>\n",
       "    <tr>\n",
       "      <th>...</th>\n",
       "      <td>...</td>\n",
       "    </tr>\n",
       "    <tr>\n",
       "      <th>237436</th>\n",
       "      <td>1</td>\n",
       "    </tr>\n",
       "    <tr>\n",
       "      <th>237437</th>\n",
       "      <td>1</td>\n",
       "    </tr>\n",
       "    <tr>\n",
       "      <th>237438</th>\n",
       "      <td>1</td>\n",
       "    </tr>\n",
       "    <tr>\n",
       "      <th>237439</th>\n",
       "      <td>1</td>\n",
       "    </tr>\n",
       "    <tr>\n",
       "      <th>237440</th>\n",
       "      <td>2</td>\n",
       "    </tr>\n",
       "  </tbody>\n",
       "</table>\n",
       "<p>237441 rows × 1 columns</p>\n",
       "</div>"
      ],
      "text/plain": [
       "        Severity\n",
       "0              1\n",
       "1              1\n",
       "2              1\n",
       "3              1\n",
       "4              1\n",
       "...          ...\n",
       "237436         1\n",
       "237437         1\n",
       "237438         1\n",
       "237439         1\n",
       "237440         2\n",
       "\n",
       "[237441 rows x 1 columns]"
      ]
     },
     "execution_count": 7,
     "metadata": {},
     "output_type": "execute_result"
    }
   ],
   "source": [
    "# See the data\n",
    "y_train_df"
   ]
  },
  {
   "cell_type": "markdown",
   "metadata": {
    "id": "4L0h_Ho3kqTl"
   },
   "source": [
    "# Neural Network"
   ]
  },
  {
   "cell_type": "code",
   "execution_count": 24,
   "metadata": {
    "id": "Z2aDgHQAkblp"
   },
   "outputs": [],
   "source": [
    "# The baseline used in Moosavi et al's paper is over geospatial data with time-variant attributes,\n",
    "# so the model is fundamentally different.\n",
    "# Still implemented here for now as a basic model. -- Todo: use cross-validation to tune hyperparams\n",
    "# Hidden layers: 512, 256, 64. ReLU hidden activation, softmax for output\n",
    "# Used Batch normalization after 2nd and 3rd hidden layers and ADAM optimizer\n",
    "# 0.01 initial learning rate\n",
    "\n",
    "n_classes = len(np.unique(y_train))\n",
    "n_features = X_train.shape[1]\n",
    "\n",
    "class BaselineNetwork(nn.Module):\n",
    "    @staticmethod\n",
    "    def class_to_onehot(data):\n",
    "        n = data.shape[0]\n",
    "        n_classes = len(np.unique(data))\n",
    "        o = np.zeros((n, n_classes))\n",
    "        o[np.arange(n), data.flatten() - 1] = 1\n",
    "        return o\n",
    "    \n",
    "    @staticmethod\n",
    "    def onehot_to_class(data):\n",
    "        o = np.argmax(data, axis=1) + 1\n",
    "        return o.reshape((len(o), 1))\n",
    "    \n",
    "    # Casts a continuous prediction to one of the class types\n",
    "    @staticmethod\n",
    "    def cast_to_classes(y):\n",
    "        y = torch.round(y)\n",
    "        y = torch.clamp(y, min=1, max=4)  # Clamp the values between 1 and 4\n",
    "        return y\n",
    "    \n",
    "    def __init__(self, one_hot = True):\n",
    "        super().__init__()\n",
    "        # self.flatten = nn.Flatten()   # No need to flatten for now since we are dealing with 1d examples\n",
    "        self.layers = nn.Sequential(\n",
    "            nn.Linear(n_features, 512),\n",
    "            nn.ReLU(),\n",
    "\n",
    "            nn.Linear(512, 256),\n",
    "            nn.BatchNorm1d(256),\n",
    "            nn.ReLU(),\n",
    "\n",
    "            nn.Linear(256, 64),\n",
    "            nn.BatchNorm1d(64),\n",
    "            nn.ReLU(),\n",
    "\n",
    "            nn.Linear(64,n_classes) if one_hot else nn.Linear(64,1),\n",
    "            nn.Softmax(dim=1) if one_hot else nn.ReLU(),\n",
    "        )\n",
    "        self.one_hot = one_hot\n",
    "\n",
    "    def forward(self, x):\n",
    "        out = self.layers(x)\n",
    "        return out\n",
    "\n",
    "    def fit(self, X_train, y_train, learning_rate = 0.01, epochs = 2000, printits = 10, X_test = None, y_test = None):\n",
    "        # Dunno what they used for loss. Just putting this here for now\n",
    "        if self.one_hot:\n",
    "            loss_fn = nn.BCEWithLogitsLoss()\n",
    "        else:\n",
    "            loss_fn = nn.MSELoss()\n",
    "            y_train = self.onehot_to_class(y_train)\n",
    "\n",
    "        optimizer = torch.optim.Adam(self.parameters(), lr = learning_rate)\n",
    "\n",
    "        return_test_losses = False\n",
    "        if X_test is not None and y_test is not None:\n",
    "            print(\"Logging test losses enabled.\")\n",
    "            return_test_losses = True\n",
    "        losses = []\n",
    "        test_losses = []\n",
    "        \n",
    "        # Training cycle\n",
    "        pbar = tqdm(range(epochs))\n",
    "        for epoch in pbar:\n",
    "            model.train()\n",
    "            optimizer.zero_grad()\n",
    "\n",
    "            out = self.forward(X_train)\n",
    "\n",
    "            loss = loss_fn(out, y_train)\n",
    "            loss.backward()\n",
    "\n",
    "            optimizer.step()\n",
    "\n",
    "            # Display loss. Perhaps save for later so we can generate training curve\n",
    "            if epoch % printits == 0:\n",
    "                pbar.set_description(f\"Loss: {loss.item()}\")\n",
    "                \n",
    "                losses.append(loss.item())\n",
    "                if return_test_losses:\n",
    "                    model.eval()\n",
    "                    pred = self.forward(X_test)\n",
    "                    loss = loss_fn(pred, y_test)\n",
    "                    test_losses.append(loss.item())\n",
    "            \n",
    "        if return_test_losses:\n",
    "            return losses, test_losses\n",
    "        else:\n",
    "            return losses\n",
    "        \n",
    "        \n",
    "    def predict(self, X):\n",
    "        model.eval()\n",
    "        with torch.no_grad():\n",
    "            output = self(X)\n",
    "        if not self.one_hot:\n",
    "            output = self.cast_to_classes(output)\n",
    "        else:\n",
    "            output = torch.argmax(output, dim=1, keepdim=True) + 1\n",
    "        return output"
   ]
  },
  {
   "cell_type": "code",
   "execution_count": 9,
   "metadata": {},
   "outputs": [],
   "source": [
    "class ThinnerNetwork(BaselineNetwork):\n",
    "    def __init__(self, one_hot = True):\n",
    "        super().__init__()\n",
    "        # self.flatten = nn.Flatten()   # No need to flatten for now since we are dealing with 1d examples\n",
    "        self.layers = nn.Sequential(\n",
    "            nn.Linear(n_features, 64),\n",
    "            nn.ReLU(),\n",
    "\n",
    "            nn.Linear(64, 64),\n",
    "            nn.BatchNorm1d(64),\n",
    "            nn.ReLU(),\n",
    "\n",
    "            nn.Linear(64, 32),\n",
    "            nn.BatchNorm1d(32),\n",
    "            nn.ReLU(),\n",
    "\n",
    "            nn.Linear(32, 32),\n",
    "            nn.BatchNorm1d(32),\n",
    "            nn.ReLU(),\n",
    "\n",
    "            nn.Linear(32,n_classes) if one_hot else nn.Linear(64,1),\n",
    "            nn.Softmax(dim=1) if one_hot else nn.ReLU(),\n",
    "        )\n",
    "        self.one_hot = one_hot"
   ]
  },
  {
   "cell_type": "code",
   "execution_count": 25,
   "metadata": {
    "id": "ncfZW_ii16RG"
   },
   "outputs": [],
   "source": [
    "model = BaselineNetwork(one_hot = True)"
   ]
  },
  {
   "cell_type": "markdown",
   "metadata": {},
   "source": [
    "## Preparing Data"
   ]
  },
  {
   "cell_type": "code",
   "execution_count": 49,
   "metadata": {
    "colab": {
     "base_uri": "https://localhost:8080/",
     "height": 426
    },
    "id": "BI8sUhGr194U",
    "outputId": "fb5e6ae0-5844-49bf-838d-f8f25eb0509c"
   },
   "outputs": [],
   "source": [
    "# Maybe move this up to importing data section\n",
    "X = torch.from_numpy(X_train.astype(np.float32))\n",
    "\n",
    "# TODO: Also try models that keep the (n,1).\n",
    "# Turning y from a (n,1) array to a (n,c) array like a one-hot encoding of the classes.\n",
    "y = BaselineNetwork.class_to_onehot(y_train)\n",
    "y = torch.from_numpy(y.astype(np.float32))\n",
    "\n",
    "X = X.to(device)\n",
    "y = y.to(device)\n",
    "model = model.to(device)\n",
    "\n",
    "# Read in test data\n",
    "# X_test_df = pd.read_csv(\"X_test.csv\")\n",
    "# y_test_df = pd.read_csv(\"y_test.csv\")\n",
    "X_test_df = pd.read_csv(\"X_test_resampled.csv\")\n",
    "y_test_df = pd.read_csv(\"y_test_resampled.csv\")\n",
    "\n",
    "X_test = X_test_df.values\n",
    "y_test = y_test_df.values\n",
    "y_test = BaselineNetwork.class_to_onehot(y_test)\n",
    "\n",
    "X_test = torch.from_numpy(X_test.astype(np.float32)).to(device)\n",
    "y_test = torch.from_numpy(y_test.astype(np.float32)).to(device)\n",
    "\n",
    "X_test = X_test.to(device)\n",
    "y_test = y_test.to(device)"
   ]
  },
  {
   "cell_type": "markdown",
   "metadata": {},
   "source": [
    "## Fitting the model"
   ]
  },
  {
   "cell_type": "code",
   "execution_count": 39,
   "metadata": {},
   "outputs": [
    {
     "name": "stdout",
     "output_type": "stream",
     "text": [
      "Logging test losses enabled.\n"
     ]
    },
    {
     "name": "stderr",
     "output_type": "stream",
     "text": [
      "Loss: 0.6115215420722961: 100%|████████████████████████████████████████████████████| 1000/1000 [00:05<00:00, 190.53it/s]\n"
     ]
    }
   ],
   "source": [
    "losses, test_losses = model.fit(X, y, epochs=1000, learning_rate=1e-3, X_test = X_test, y_test = y_test)"
   ]
  },
  {
   "cell_type": "code",
   "execution_count": 24,
   "metadata": {},
   "outputs": [
    {
     "data": {
      "text/plain": [
       "<All keys matched successfully>"
      ]
     },
     "execution_count": 24,
     "metadata": {},
     "output_type": "execute_result"
    }
   ],
   "source": [
    "# Alternatively, if you want to load the model instead\n",
    "LOAD_PATH = \"model.pt\"\n",
    "\n",
    "model.load_state_dict(torch.load(LOAD_PATH))"
   ]
  },
  {
   "cell_type": "markdown",
   "metadata": {},
   "source": [
    "## Saving the model parameters"
   ]
  },
  {
   "cell_type": "code",
   "execution_count": 69,
   "metadata": {},
   "outputs": [],
   "source": [
    "SAVE_PATH = \"model.pt\"\n",
    "\n",
    "torch.save(model.state_dict(), SAVE_PATH)"
   ]
  },
  {
   "cell_type": "markdown",
   "metadata": {},
   "source": [
    "# Evaluation"
   ]
  },
  {
   "cell_type": "code",
   "execution_count": 40,
   "metadata": {},
   "outputs": [],
   "source": [
    "from sklearn.metrics import precision_score,recall_score,f1_score, accuracy_score,confusion_matrix,classification_report\n",
    "import seaborn as sns"
   ]
  },
  {
   "cell_type": "code",
   "execution_count": 69,
   "metadata": {},
   "outputs": [],
   "source": [
    "# Taken from other notebooks\n",
    "def report(y_test,y_pred, show_confusion_matrix = True):\n",
    "    accuracy = accuracy_score(y_test, y_pred)\n",
    "    print(f\"Accuracy: {accuracy:.2f}\")\n",
    "\n",
    "    if show_confusion_matrix:\n",
    "        plt.figure(figsize=(6, 4))\n",
    "        sns.heatmap(confusion_matrix(y_test, y_pred), annot=True, fmt='d', cmap='Blues')\n",
    "        plt.xlabel('Predicted')\n",
    "        plt.ylabel('Actual')\n",
    "        plt.title('Confusion Matrix')\n",
    "        plt.show()\n",
    "\n",
    "    class_report = classification_report(y_test, y_pred)\n",
    "    print(\"Classification Report:\")\n",
    "    print(class_report)\n",
    "    \n",
    "def plot_learning_curve(train_losses, test_losses=None):\n",
    "    \"\"\"\n",
    "    Plot learning curve given a list of training and optionally test losses.\n",
    "    \n",
    "    Args:\n",
    "    train_losses (list): List of training losses.\n",
    "    test_losses (list, optional): List of test losses. If not provided, only training curve will be plotted.\n",
    "    \"\"\"\n",
    "    epochs = range(1, len(train_losses) + 1)\n",
    "    \n",
    "    plt.figure(figsize=(10, 6))\n",
    "    \n",
    "    # Plotting training curve\n",
    "    plt.plot(epochs, train_losses, label='Training Loss', color='blue')\n",
    "    \n",
    "    # Plotting test curve if provided\n",
    "    if test_losses:\n",
    "        plt.plot(epochs, test_losses, label='Test Loss', color='red')\n",
    "    \n",
    "    plt.title('Learning Curve')\n",
    "    plt.xlabel('Epochs')\n",
    "    plt.ylabel('Loss')\n",
    "    plt.legend()\n",
    "    plt.grid(True)\n",
    "    plt.show()"
   ]
  },
  {
   "cell_type": "code",
   "execution_count": 42,
   "metadata": {},
   "outputs": [],
   "source": [
    "y_pred = model.predict(X_test)"
   ]
  },
  {
   "cell_type": "code",
   "execution_count": 43,
   "metadata": {},
   "outputs": [
    {
     "name": "stdout",
     "output_type": "stream",
     "text": [
      "Accuracy: 0.75\n"
     ]
    },
    {
     "data": {
      "image/png": "[encoded data removed]",
      "text/plain": [
       "<Figure size 600x400 with 2 Axes>"
      ]
     },
     "metadata": {},
     "output_type": "display_data"
    },
    {
     "name": "stdout",
     "output_type": "stream",
     "text": [
      "Classification Report:\n",
      "              precision    recall  f1-score   support\n",
      "\n",
      "           1       0.63      0.61      0.62      1058\n",
      "           2       0.72      0.76      0.74      1031\n",
      "           3       0.77      0.76      0.76      1014\n",
      "           4       0.88      0.89      0.89      1035\n",
      "\n",
      "    accuracy                           0.75      4138\n",
      "   macro avg       0.75      0.75      0.75      4138\n",
      "weighted avg       0.75      0.75      0.75      4138\n",
      "\n"
     ]
    }
   ],
   "source": [
    "report(BaselineNetwork.onehot_to_class(y_test.detach().to(\"cpu\")), y_pred.detach().to(\"cpu\"))"
   ]
  },
  {
   "cell_type": "code",
   "execution_count": 44,
   "metadata": {},
   "outputs": [
    {
     "data": {
      "image/png": "[encoded data removed]",
      "text/plain": [
       "<Figure size 1000x600 with 1 Axes>"
      ]
     },
     "metadata": {},
     "output_type": "display_data"
    }
   ],
   "source": [
    "plot_learning_curve(losses, test_losses)"
   ]
  },
  {
   "cell_type": "code",
   "execution_count": 55,
   "metadata": {},
   "outputs": [],
   "source": [
    "# Currently we need to manually import the csv files every session.\n",
    "# Perhaps there is a better way by mounting gdrive to do that part automatically.\n",
    "X_train_df = pd.read_csv(\"X_train_resampled.csv\")\n",
    "y_train_df = pd.read_csv(\"y_train_resampled.csv\")\n",
    "\n",
    "X_train = X_train_df.values\n",
    "y_train = y_train_df.values\n",
    "\n",
    "X_test_df = pd.read_csv(\"X_test_resampled.csv\")\n",
    "y_test_df = pd.read_csv(\"y_test_resampled.csv\")\n",
    "\n",
    "X_test = X_test_df.values\n",
    "y_test = y_test_df.values"
   ]
  },
  {
   "cell_type": "code",
   "execution_count": 74,
   "metadata": {},
   "outputs": [],
   "source": [
    "# Currently we need to manually import the csv files every session.\n",
    "# Perhaps there is a better way by mounting gdrive to do that part automatically.\n",
    "X_train_df = pd.read_csv(\"X_train.csv\")\n",
    "y_train_df = pd.read_csv(\"y_train.csv\")\n",
    "\n",
    "X_train = X_train_df.values\n",
    "y_train = y_train_df.values\n",
    "\n",
    "X_test_df = pd.read_csv(\"X_test.csv\")\n",
    "y_test_df = pd.read_csv(\"y_test.csv\")\n",
    "\n",
    "X_test = X_test_df.values\n",
    "y_test = y_test_df.values"
   ]
  },
  {
   "cell_type": "code",
   "execution_count": 77,
   "metadata": {},
   "outputs": [],
   "source": [
    "u, c = np.unique(y_train,return_counts=True)"
   ]
  },
  {
   "cell_type": "code",
   "execution_count": 79,
   "metadata": {},
   "outputs": [
    {
     "data": {
      "text/plain": [
       "0.784590698320846"
      ]
     },
     "execution_count": 79,
     "metadata": {},
     "output_type": "execute_result"
    }
   ],
   "source": [
    "c[1] / sum(c)"
   ]
  },
  {
   "cell_type": "markdown",
   "metadata": {},
   "source": [
    "# K-Fold Cross-Validation"
   ]
  },
  {
   "cell_type": "code",
   "execution_count": 72,
   "metadata": {},
   "outputs": [],
   "source": [
    "def train_and_evaluate_model(model, X_train, y_train, X_test, y_test, epochs=1000, lr=1e-3, do_lc = True):\n",
    "    # Maybe move this up to importing data section\n",
    "    X = torch.from_numpy(X_train.astype(np.float32))\n",
    "\n",
    "    # TODO: Also try models that keep the (n,1).\n",
    "    # Turning y from a (n,1) array to a (n,c) array like a one-hot encoding of the classes.\n",
    "    y = BaselineNetwork.class_to_onehot(y_train)\n",
    "    y = torch.from_numpy(y.astype(np.float32))\n",
    "    \n",
    "    y_test = BaselineNetwork.class_to_onehot(y_test)\n",
    "\n",
    "    X_test = torch.from_numpy(X_test.astype(np.float32)).to(device)\n",
    "    y_test = torch.from_numpy(y_test.astype(np.float32)).to(device)\n",
    "    \n",
    "    X = X.to(device)\n",
    "    y = y.to(device)\n",
    "    model = model.to(device)\n",
    "    \n",
    "    X_test = X_test.to(device)\n",
    "    y_test = y_test.to(device)\n",
    "    \n",
    "    losses, test_losses = model.fit(X, y, epochs=epochs, learning_rate=lr, X_test = X_test, y_test = y_test)\n",
    "    \n",
    "    y_pred = model.predict(X_test)\n",
    "    \n",
    "    tests = BaselineNetwork.onehot_to_class(y_test.detach().to(\"cpu\"))\n",
    "    preds = y_pred.detach().to(\"cpu\")\n",
    "    \n",
    "    report(tests, preds, show_confusion_matrix = False)\n",
    "    if do_lc:\n",
    "        plot_learning_curve(losses, test_losses)"
   ]
  },
  {
   "cell_type": "code",
   "execution_count": 80,
   "metadata": {},
   "outputs": [
    {
     "name": "stdout",
     "output_type": "stream",
     "text": [
      "Fold 1:\n",
      "X train shape: (189952, 33), y train shape: (189952, 1)\n",
      "X valid shape: (47489, 33), y valid shape: (47489, 1)\n",
      "Logging test losses enabled.\n"
     ]
    },
    {
     "name": "stderr",
     "output_type": "stream",
     "text": [
      "Loss: 0.6357219815254211: 100%|█████████████████████████████████████████████████████| 1000/1000 [00:44<00:00, 22.32it/s]\n",
      "/home/yoberg/anaconda3/envs/pytorch3d/lib/python3.9/site-packages/sklearn/metrics/_classification.py:1344: UndefinedMetricWarning: Precision and F-score are ill-defined and being set to 0.0 in labels with no predicted samples. Use `zero_division` parameter to control this behavior.\n",
      "  _warn_prf(average, modifier, msg_start, len(result))\n",
      "/home/yoberg/anaconda3/envs/pytorch3d/lib/python3.9/site-packages/sklearn/metrics/_classification.py:1344: UndefinedMetricWarning: Precision and F-score are ill-defined and being set to 0.0 in labels with no predicted samples. Use `zero_division` parameter to control this behavior.\n",
      "  _warn_prf(average, modifier, msg_start, len(result))\n",
      "/home/yoberg/anaconda3/envs/pytorch3d/lib/python3.9/site-packages/sklearn/metrics/_classification.py:1344: UndefinedMetricWarning: Precision and F-score are ill-defined and being set to 0.0 in labels with no predicted samples. Use `zero_division` parameter to control this behavior.\n",
      "  _warn_prf(average, modifier, msg_start, len(result))\n"
     ]
    },
    {
     "name": "stdout",
     "output_type": "stream",
     "text": [
      "Accuracy: 0.85\n",
      "Classification Report:\n",
      "              precision    recall  f1-score   support\n",
      "\n",
      "           1       0.88      0.94      0.91     37391\n",
      "           2       0.71      0.59      0.64      8953\n",
      "           3       0.00      0.00      0.00       683\n",
      "           4       0.00      0.00      0.00       462\n",
      "\n",
      "    accuracy                           0.85     47489\n",
      "   macro avg       0.40      0.38      0.39     47489\n",
      "weighted avg       0.83      0.85      0.84     47489\n",
      "\n",
      "Fold 2:\n",
      "X train shape: (189953, 33), y train shape: (189953, 1)\n",
      "X valid shape: (47488, 33), y valid shape: (47488, 1)\n",
      "Logging test losses enabled.\n"
     ]
    },
    {
     "name": "stderr",
     "output_type": "stream",
     "text": [
      "Loss: 0.6367993950843811: 100%|█████████████████████████████████████████████████████| 1000/1000 [00:45<00:00, 22.00it/s]\n",
      "/home/yoberg/anaconda3/envs/pytorch3d/lib/python3.9/site-packages/sklearn/metrics/_classification.py:1344: UndefinedMetricWarning: Precision and F-score are ill-defined and being set to 0.0 in labels with no predicted samples. Use `zero_division` parameter to control this behavior.\n",
      "  _warn_prf(average, modifier, msg_start, len(result))\n",
      "/home/yoberg/anaconda3/envs/pytorch3d/lib/python3.9/site-packages/sklearn/metrics/_classification.py:1344: UndefinedMetricWarning: Precision and F-score are ill-defined and being set to 0.0 in labels with no predicted samples. Use `zero_division` parameter to control this behavior.\n",
      "  _warn_prf(average, modifier, msg_start, len(result))\n",
      "/home/yoberg/anaconda3/envs/pytorch3d/lib/python3.9/site-packages/sklearn/metrics/_classification.py:1344: UndefinedMetricWarning: Precision and F-score are ill-defined and being set to 0.0 in labels with no predicted samples. Use `zero_division` parameter to control this behavior.\n",
      "  _warn_prf(average, modifier, msg_start, len(result))\n"
     ]
    },
    {
     "name": "stdout",
     "output_type": "stream",
     "text": [
      "Accuracy: 0.85\n",
      "Classification Report:\n",
      "              precision    recall  f1-score   support\n",
      "\n",
      "           1       0.89      0.92      0.91     37262\n",
      "           2       0.67      0.66      0.66      9128\n",
      "           3       0.00      0.00      0.00       643\n",
      "           4       0.00      0.00      0.00       455\n",
      "\n",
      "    accuracy                           0.85     47488\n",
      "   macro avg       0.39      0.40      0.39     47488\n",
      "weighted avg       0.83      0.85      0.84     47488\n",
      "\n",
      "Fold 3:\n",
      "X train shape: (189953, 33), y train shape: (189953, 1)\n",
      "X valid shape: (47488, 33), y valid shape: (47488, 1)\n",
      "Logging test losses enabled.\n"
     ]
    },
    {
     "name": "stderr",
     "output_type": "stream",
     "text": [
      "Loss: 0.6356105804443359: 100%|█████████████████████████████████████████████████████| 1000/1000 [00:45<00:00, 22.17it/s]\n",
      "/home/yoberg/anaconda3/envs/pytorch3d/lib/python3.9/site-packages/sklearn/metrics/_classification.py:1344: UndefinedMetricWarning: Precision and F-score are ill-defined and being set to 0.0 in labels with no predicted samples. Use `zero_division` parameter to control this behavior.\n",
      "  _warn_prf(average, modifier, msg_start, len(result))\n",
      "/home/yoberg/anaconda3/envs/pytorch3d/lib/python3.9/site-packages/sklearn/metrics/_classification.py:1344: UndefinedMetricWarning: Precision and F-score are ill-defined and being set to 0.0 in labels with no predicted samples. Use `zero_division` parameter to control this behavior.\n",
      "  _warn_prf(average, modifier, msg_start, len(result))\n",
      "/home/yoberg/anaconda3/envs/pytorch3d/lib/python3.9/site-packages/sklearn/metrics/_classification.py:1344: UndefinedMetricWarning: Precision and F-score are ill-defined and being set to 0.0 in labels with no predicted samples. Use `zero_division` parameter to control this behavior.\n",
      "  _warn_prf(average, modifier, msg_start, len(result))\n"
     ]
    },
    {
     "name": "stdout",
     "output_type": "stream",
     "text": [
      "Accuracy: 0.86\n",
      "Classification Report:\n",
      "              precision    recall  f1-score   support\n",
      "\n",
      "           1       0.89      0.94      0.91     37351\n",
      "           2       0.70      0.63      0.66      9003\n",
      "           3       0.00      0.00      0.00       671\n",
      "           4       0.00      0.00      0.00       463\n",
      "\n",
      "    accuracy                           0.86     47488\n",
      "   macro avg       0.40      0.39      0.39     47488\n",
      "weighted avg       0.83      0.86      0.84     47488\n",
      "\n",
      "Fold 4:\n",
      "X train shape: (189953, 33), y train shape: (189953, 1)\n",
      "X valid shape: (47488, 33), y valid shape: (47488, 1)\n",
      "Logging test losses enabled.\n"
     ]
    },
    {
     "name": "stderr",
     "output_type": "stream",
     "text": [
      "Loss: 0.6356699466705322: 100%|█████████████████████████████████████████████████████| 1000/1000 [00:45<00:00, 22.14it/s]\n",
      "/home/yoberg/anaconda3/envs/pytorch3d/lib/python3.9/site-packages/sklearn/metrics/_classification.py:1344: UndefinedMetricWarning: Precision and F-score are ill-defined and being set to 0.0 in labels with no predicted samples. Use `zero_division` parameter to control this behavior.\n",
      "  _warn_prf(average, modifier, msg_start, len(result))\n",
      "/home/yoberg/anaconda3/envs/pytorch3d/lib/python3.9/site-packages/sklearn/metrics/_classification.py:1344: UndefinedMetricWarning: Precision and F-score are ill-defined and being set to 0.0 in labels with no predicted samples. Use `zero_division` parameter to control this behavior.\n",
      "  _warn_prf(average, modifier, msg_start, len(result))\n",
      "/home/yoberg/anaconda3/envs/pytorch3d/lib/python3.9/site-packages/sklearn/metrics/_classification.py:1344: UndefinedMetricWarning: Precision and F-score are ill-defined and being set to 0.0 in labels with no predicted samples. Use `zero_division` parameter to control this behavior.\n",
      "  _warn_prf(average, modifier, msg_start, len(result))\n"
     ]
    },
    {
     "name": "stdout",
     "output_type": "stream",
     "text": [
      "Accuracy: 0.85\n",
      "Classification Report:\n",
      "              precision    recall  f1-score   support\n",
      "\n",
      "           1       0.89      0.93      0.91     37261\n",
      "           2       0.69      0.63      0.66      9052\n",
      "           3       0.00      0.00      0.00       678\n",
      "           4       0.00      0.00      0.00       497\n",
      "\n",
      "    accuracy                           0.85     47488\n",
      "   macro avg       0.39      0.39      0.39     47488\n",
      "weighted avg       0.83      0.85      0.84     47488\n",
      "\n",
      "Fold 5:\n",
      "X train shape: (189953, 33), y train shape: (189953, 1)\n",
      "X valid shape: (47488, 33), y valid shape: (47488, 1)\n",
      "Logging test losses enabled.\n"
     ]
    },
    {
     "name": "stderr",
     "output_type": "stream",
     "text": [
      "Loss: 0.6332675218582153: 100%|█████████████████████████████████████████████████████| 1000/1000 [00:45<00:00, 21.96it/s]\n"
     ]
    },
    {
     "name": "stdout",
     "output_type": "stream",
     "text": [
      "Accuracy: 0.85\n",
      "Classification Report:\n",
      "              precision    recall  f1-score   support\n",
      "\n",
      "           1       0.88      0.94      0.91     37029\n",
      "           2       0.71      0.59      0.64      9279\n",
      "           3       0.00      0.00      0.00       690\n",
      "           4       0.00      0.00      0.00       490\n",
      "\n",
      "    accuracy                           0.85     47488\n",
      "   macro avg       0.40      0.38      0.39     47488\n",
      "weighted avg       0.82      0.85      0.83     47488\n",
      "\n"
     ]
    },
    {
     "name": "stderr",
     "output_type": "stream",
     "text": [
      "/home/yoberg/anaconda3/envs/pytorch3d/lib/python3.9/site-packages/sklearn/metrics/_classification.py:1344: UndefinedMetricWarning: Precision and F-score are ill-defined and being set to 0.0 in labels with no predicted samples. Use `zero_division` parameter to control this behavior.\n",
      "  _warn_prf(average, modifier, msg_start, len(result))\n",
      "/home/yoberg/anaconda3/envs/pytorch3d/lib/python3.9/site-packages/sklearn/metrics/_classification.py:1344: UndefinedMetricWarning: Precision and F-score are ill-defined and being set to 0.0 in labels with no predicted samples. Use `zero_division` parameter to control this behavior.\n",
      "  _warn_prf(average, modifier, msg_start, len(result))\n",
      "/home/yoberg/anaconda3/envs/pytorch3d/lib/python3.9/site-packages/sklearn/metrics/_classification.py:1344: UndefinedMetricWarning: Precision and F-score are ill-defined and being set to 0.0 in labels with no predicted samples. Use `zero_division` parameter to control this behavior.\n",
      "  _warn_prf(average, modifier, msg_start, len(result))\n"
     ]
    }
   ],
   "source": [
    "def kfold_data_split(X, y, n_splits=5, shuffle=True, random_state=None):\n",
    "    kf = KFold(n_splits=n_splits, shuffle=shuffle, random_state=random_state)\n",
    "    \n",
    "    # Lists to store training and validation data for each fold\n",
    "    X_train_folds = []\n",
    "    X_val_folds = []\n",
    "    y_train_folds = []\n",
    "    y_val_folds = []\n",
    "    \n",
    "    for train_index, val_index in kf.split(X):\n",
    "        X_train, X_val = X[train_index], X[val_index]\n",
    "        y_train, y_val = y[train_index], y[val_index]\n",
    "        \n",
    "        X_train_folds.append(X_train)\n",
    "        X_val_folds.append(X_val)\n",
    "        y_train_folds.append(y_train)\n",
    "        y_val_folds.append(y_val)\n",
    "    \n",
    "    return X_train_folds, X_val_folds, y_train_folds, y_val_folds\n",
    "\n",
    "# Example usage:\n",
    "# Assuming X and y are your numpy arrays\n",
    "# X shape: (n_samples, n_features)\n",
    "# y shape: (n_samples,)\n",
    "# X = np.array([[1, 2], [3, 4], [5, 6], [7, 8], [9, 10]])\n",
    "# y = np.array([0, 1, 0, 1, 0])\n",
    "\n",
    "# Call the function to get the splits\n",
    "X_train_folds, X_val_folds, y_train_folds, y_val_folds = kfold_data_split(X_train, y_train)\n",
    "\n",
    "# Now you have the training and validation data for each fold\n",
    "for i in range(len(X_train_folds)):\n",
    "    print(f\"Fold {i+1}:\")\n",
    "    \n",
    "    X = X_train_folds[i]\n",
    "    y = y_train_folds[i]\n",
    "    X_val = X_val_folds[i]\n",
    "    y_val = y_val_folds[i]\n",
    "    \n",
    "    print(f\"X train shape: {X.shape}, y train shape: {y.shape}\")\n",
    "    print(f\"X valid shape: {X_val.shape}, y valid shape: {y_val.shape}\")\n",
    "    \n",
    "    model = BaselineNetwork()\n",
    "    train_and_evaluate_model(model, X, y, X_val, y_val, epochs=1000, lr=1e-4, do_lc = False)"
   ]
  },
  {
   "cell_type": "code",
   "execution_count": null,
   "metadata": {},
   "outputs": [],
   "source": []
  }
 ],
 "metadata": {
  "colab": {
   "provenance": []
  },
  "kernelspec": {
   "display_name": "Python 3 (ipykernel)",
   "language": "python",
   "name": "python3"
  },
  "language_info": {
   "codemirror_mode": {
    "name": "ipython",
    "version": 3
   },
   "file_extension": ".py",
   "mimetype": "text/x-python",
   "name": "python",
   "nbconvert_exporter": "python",
   "pygments_lexer": "ipython3",
   "version": "3.9.16"
  }
 },
 "nbformat": 4,
 "nbformat_minor": 1
}
